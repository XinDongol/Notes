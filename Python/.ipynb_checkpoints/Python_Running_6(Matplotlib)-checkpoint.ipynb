{
 "cells": [
  {
   "cell_type": "markdown",
   "metadata": {},
   "source": [
    "# Matplotlib"
   ]
  },
  {
   "cell_type": "code",
   "execution_count": 8,
   "metadata": {
    "collapsed": false
   },
   "outputs": [
    {
     "name": "stdout",
     "output_type": "stream",
     "text": [
      "<class 'matplotlib.figure.Figure'>\n",
      "<class 'matplotlib.figure.Figure'>\n",
      "<type 'numpy.ndarray'>\n",
      "[<matplotlib.axes._subplots.AxesSubplot object at 0x7f205d8d3b50>\n",
      " <matplotlib.axes._subplots.AxesSubplot object at 0x7f205d6d9d10>]\n"
     ]
    }
   ],
   "source": [
    "import numpy as np\n",
    "import matplotlib as mpl\n",
    "import matplotlib.pyplot as plt\n",
    " \n",
    "# 通过rcParams设置全局横纵轴字体大小\n",
    "mpl.rcParams['xtick.labelsize'] = 24\n",
    "mpl.rcParams['ytick.labelsize'] = 24\n",
    " \n",
    "np.random.seed(42)\n",
    " \n",
    "# x轴的采样点\n",
    "x = np.linspace(0, 5, 100)\n",
    " \n",
    "# 通过下面曲线加上噪声生成数据，所以拟合模型就用y了……\n",
    "y = 2*np.sin(x) + 0.3*x**2\n",
    "y_data = y + np.random.normal(scale=0.3, size=100)\n",
    " \n",
    "# figure()指定图表名称\n",
    "fig = plt.figure('data')\n",
    "fig1, axes1 = plt.subplots(nrows=1, ncols=2)\n",
    "print(type(fig))\n",
    "print(type(fig1))\n",
    "print(type(axes1))\n",
    "print(axes1)"
   ]
  },
  {
   "cell_type": "markdown",
   "metadata": {},
   "source": [
    "注意，我们已经建立了一个图的对象，但是由于当前我们没有对该图进行任何操作，所以并不能显示任何内容。"
   ]
  },
  {
   "cell_type": "markdown",
   "metadata": {},
   "source": [
    "matplot绘图主要的对象有**pyplot，figure，axes**三种对象。分别对应画布总体对象，画布和轴。\n",
    "\n",
    "#### concept：\n",
    "1.　Figure: Figure对象可以包含一个或者多个Axes\n",
    "\n",
    "2.　Axes: 每个Axes对象都是一个拥有自己坐标系统的绘图区域\n",
    "\n",
    "3.　Axis: Axis为坐标轴\n",
    "\n",
    "4.　patches\n",
    "\n",
    "![text](http://images.cnitblog.com/blog/413416/201301/28161628-cc13f9c508d44b59af00d482ccaeec95.png \"示意图\")\n",
    "\n",
    "他们之间的关系是：\n",
    "![text](http://images.cnitblog.com/blog/413416/201301/29220639-06b363b5f4e14b9585be1be494712f8c.png \"示意图\")\n",
    "\n"
   ]
  },
  {
   "cell_type": "code",
   "execution_count": 9,
   "metadata": {
    "collapsed": false
   },
   "outputs": [
    {
     "ename": "AttributeError",
     "evalue": "'Figure' object has no attribute 'plot'",
     "output_type": "error",
     "traceback": [
      "\u001b[0;31m---------------------------------------------------------------------------\u001b[0m",
      "\u001b[0;31mAttributeError\u001b[0m                            Traceback (most recent call last)",
      "\u001b[0;32m<ipython-input-9-3d8fffdbcdbe>\u001b[0m in \u001b[0;36m<module>\u001b[0;34m()\u001b[0m\n\u001b[0;32m----> 1\u001b[0;31m \u001b[0mfig\u001b[0m\u001b[0;34m.\u001b[0m\u001b[0mplot\u001b[0m\u001b[0;34m(\u001b[0m\u001b[0mx\u001b[0m\u001b[0;34m,\u001b[0m\u001b[0my_data\u001b[0m\u001b[0;34m)\u001b[0m\u001b[0;34m\u001b[0m\u001b[0m\n\u001b[0m",
      "\u001b[0;31mAttributeError\u001b[0m: 'Figure' object has no attribute 'plot'"
     ]
    }
   ],
   "source": [
    "fig.plot(x,y_data)"
   ]
  },
  {
   "cell_type": "code",
   "execution_count": 10,
   "metadata": {
    "collapsed": false
   },
   "outputs": [
    {
     "data": {
      "text/plain": [
       "[<matplotlib.lines.Line2D at 0x7f205d9ccc90>]"
      ]
     },
     "execution_count": 10,
     "metadata": {},
     "output_type": "execute_result"
    }
   ],
   "source": [
    "axes1[0].plot(x,y_data)"
   ]
  },
  {
   "cell_type": "markdown",
   "metadata": {},
   "source": [
    "这里要具体解释下报错的原因：上面说了 ***Figure*** 和　***Axes***　的关系。虽然 ***Figure***　代表了整个画布，但是只用 `plt.figure()`　也只是定义了一个画布，当前画布上并没有　**可绘图区域**————即　***Axes***，所以　***Figure***　并没有　***plot*** 对象。这时候，有两种选择，可以直接简单粗暴的使用："
   ]
  },
  {
   "cell_type": "code",
   "execution_count": null,
   "metadata": {
    "collapsed": true
   },
   "outputs": [],
   "source": [
    "plt.plot(x,y_data)"
   ]
  },
  {
   "cell_type": "markdown",
   "metadata": {},
   "source": [
    "这是　`plt`　对象的特别好用的一点，它会自动识别当前是否有　***Figure*** 和　***Axes***　对象。如果没有，则会适当的建立缺失的对象，进行画图。\n",
    "\n",
    "另外也自己加上一个可画图区域————***Axes***，例如"
   ]
  },
  {
   "cell_type": "code",
   "execution_count": null,
   "metadata": {
    "collapsed": true
   },
   "outputs": [],
   "source": [
    "axes = fig.add_axes([0.1, 0.1, 0.8, 0.8])"
   ]
  },
  {
   "cell_type": "markdown",
   "metadata": {},
   "source": [
    "但是大多数情况下，为了方便，人们省略了这行代码。"
   ]
  },
  {
   "cell_type": "markdown",
   "metadata": {},
   "source": [
    "除此之外，可以看到　`plt.subplot()` 可以同时帮我们建立　***Figure***　和　***Axes***　对象，因此也被广泛利用。"
   ]
  },
  {
   "cell_type": "markdown",
   "metadata": {},
   "source": [
    "### 子图布局\n",
    "有了这些概念，就很容易理解“图中图”是如何画出来的了："
   ]
  },
  {
   "cell_type": "code",
   "execution_count": 12,
   "metadata": {
    "collapsed": false
   },
   "outputs": [
    {
     "data": {
      "image/png": "[encoded data removed]",
      "text/plain": [
       "<matplotlib.figure.Figure at 0x7f205d9ccbd0>"
      ]
     },
     "metadata": {},
     "output_type": "display_data"
    }
   ],
   "source": [
    "from pylab import *\n",
    "x = linspace(0, 5, 10)\n",
    "y = x ** 2\n",
    "\n",
    "fig2 = plt.figure()\n",
    "\n",
    "axes = fig2.add_axes([0.1, 0.1, 0.8, 0.8]) # left, bottom, width, height (range 0 to 1)\n",
    "axes2 = fig2.add_axes([0.2, 0.5, 0.4, 0.3]) # inset axes\n",
    "\n",
    "axes.plot(x, y, 'r')\n",
    "\n",
    "axes.set_xlabel('x')\n",
    "axes.set_ylabel('y')\n",
    "axes.set_title('title')\n",
    "\n",
    "# insert\n",
    "axes2.plot(y, x, 'g')\n",
    "axes2.set_xlabel('y')\n",
    "axes2.set_ylabel('x')\n",
    "axes2.set_title('insert title');\n",
    "\n",
    "plt.show(fig2)"
   ]
  },
  {
   "cell_type": "markdown",
   "metadata": {},
   "source": [
    "### 设置参数\n",
    "很明显，那些该给整个图的参数就应该用　***Figure***　对象设置（如图的大小，图的分辨率，图的保存）；而那些针对某个画图区域的参数就应该用　***Axes*** 对象设置（如坐标轴，刻度，图的名字）。"
   ]
  }
 ],
 "metadata": {
  "kernelspec": {
   "display_name": "Python 2",
   "language": "python",
   "name": "python2"
  },
  "language_info": {
   "codemirror_mode": {
    "name": "ipython",
    "version": 2
   },
   "file_extension": ".py",
   "mimetype": "text/x-python",
   "name": "python",
   "nbconvert_exporter": "python",
   "pygments_lexer": "ipython2",
   "version": "2.7.12"
  }
 },
 "nbformat": 4,
 "nbformat_minor": 1
}
