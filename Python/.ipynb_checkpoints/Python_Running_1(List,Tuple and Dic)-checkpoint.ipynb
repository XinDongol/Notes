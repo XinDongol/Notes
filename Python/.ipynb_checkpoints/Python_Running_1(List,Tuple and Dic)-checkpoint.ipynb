{
 "cells": [
  {
   "cell_type": "markdown",
   "metadata": {
    "deletable": true,
    "editable": true
   },
   "source": [
    "# Python Running 1 "
   ]
  },
  {
   "cell_type": "markdown",
   "metadata": {
    "deletable": true,
    "editable": true
   },
   "source": [
    "#### Remember that arguments which have default value can only the last of the arguments! \n",
    "\n",
    "In other words, a function like `def function_name(a, b=default value)` is right, but `def function_name(b=default value, a)` is incorrect."
   ]
  },
  {
   "cell_type": "markdown",
   "metadata": {
    "deletable": true,
    "editable": true
   },
   "source": [
    "#### Notice the differences between list and arrary\n",
    "\n",
    "There are three main data types, list(列表), tuple(元组), dictionary(字典).\n",
    "\n",
    "List: **[ ]** olny has one dimension, but it can contain different elements.\n",
    "\n",
    "Tuple:**( )** can **not** be modified!\n",
    "\n",
    "Dictionary: **{ }** have key\n",
    "\n",
    "We usually use numpy, then we have **array** and mat.\n",
    "Array focuses on computation, then it is easy to understand that:\n",
    "\n",
    "1. if a,b is array, a+b is the addition of vector. However, it would be merge in list.\n",
    "\n",
    "2. narry has one dimension, but it can contain narry. Please notice that narry only allows one type, and it can be finded in 'dtype'.(If it contian different element type, how can it calculate?)\n",
    "\n",
    "3. narry also has many useful fucntions like sum(), cusum(), reshape() and wonderful Calculated Performance. So if we want to calculate one list, it would be better to transfer it into array.\n",
    "\n",
    "We may use **mat** sometimes. To be honest, it is more convenvient.\n",
    "1. mat only have two dimensions\n",
    "\n",
    "2. The operators of it are very like MATLAB. "
   ]
  },
  {
   "cell_type": "markdown",
   "metadata": {
    "deletable": true,
    "editable": true
   },
   "source": [
    "#### Get a new trial which enables me to save the reslut of python into a file.txt  "
   ]
  },
  {
   "cell_type": "markdown",
   "metadata": {
    "deletable": true,
    "editable": true
   },
   "source": [
    "Open a terminator:"
   ]
  },
  {
   "cell_type": "code",
   "execution_count": null,
   "metadata": {
    "collapsed": true,
    "deletable": true,
    "editable": true
   },
   "outputs": [],
   "source": [
    "python ./run.py 1>log.txt 2>&1"
   ]
  },
  {
   "cell_type": "markdown",
   "metadata": {
    "deletable": true,
    "editable": true
   },
   "source": [
    "####  Save the variables into file"
   ]
  },
  {
   "cell_type": "markdown",
   "metadata": {
    "deletable": true,
    "editable": true
   },
   "source": [
    "Here is an example which shows that how to save a variable into file/load a variable into file"
   ]
  },
  {
   "cell_type": "code",
   "execution_count": null,
   "metadata": {
    "collapsed": true,
    "deletable": true,
    "editable": true
   },
   "outputs": [],
   "source": [
    "try:\n",
    "    import cPickle as pickle\n",
    "except ImportError:\n",
    "    import pickle\n",
    "\n",
    "def dxsavevar(dir_name, var):\n",
    "    '''arguments:\n",
    "    dir_name:    string(need name of file)\n",
    "    var:         object'''\n",
    "    f = open(dir_name, 'wb')\n",
    "    pickle.dump(var,f)\n",
    "    f.close()\n",
    "    \n",
    "def dxloadvar(dir_name):\n",
    "    f = open(dir_name, 'rb')\n",
    "    d = pickle.load(f)\n",
    "    f.close()\n",
    "    return d\n",
    "\n",
    "    "
   ]
  }
 ],
 "metadata": {
  "kernelspec": {
   "display_name": "Python 2",
   "language": "python",
   "name": "python2"
  },
  "language_info": {
   "codemirror_mode": {
    "name": "ipython",
    "version": 2
   },
   "file_extension": ".py",
   "mimetype": "text/x-python",
   "name": "python",
   "nbconvert_exporter": "python",
   "pygments_lexer": "ipython2",
   "version": "2.7.12"
  }
 },
 "nbformat": 4,
 "nbformat_minor": 0
}
