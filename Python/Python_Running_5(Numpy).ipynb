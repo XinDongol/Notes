{
 "cells": [
  {
   "cell_type": "markdown",
   "metadata": {},
   "source": [
    "# Numpy\n",
    "    考虑到读者分布，学习型笔记将采用中文\n",
    "    \n",
    "虽然用　Python　很久了，但是时常花一定时间学习一些新的操作还是能提高平时的编程效率的。其实，每种语言对于某一功能可能都有多种实现方式，我们在编程时就是在不断的compormise：　遇到不能直接实现的问题，就采用“曲线救国”的方法。如果一味追求知道尽可能多的操作，编程能力可能并不能有很大的提升。"
   ]
  },
  {
   "cell_type": "code",
   "execution_count": 1,
   "metadata": {
    "collapsed": true
   },
   "outputs": [],
   "source": [
    "# -*- coding: utf-8 -*-\n",
    "import numpy as np"
   ]
  },
  {
   "cell_type": "markdown",
   "metadata": {},
   "source": [
    "下面介绍一些常用的操作"
   ]
  },
  {
   "cell_type": "code",
   "execution_count": 2,
   "metadata": {
    "collapsed": true
   },
   "outputs": [],
   "source": [
    "c=np.array([[1,2],[3,4],[5,6]])"
   ]
  },
  {
   "cell_type": "code",
   "execution_count": 12,
   "metadata": {
    "collapsed": false
   },
   "outputs": [
    {
     "name": "stdout",
     "output_type": "stream",
     "text": [
      "(3, 2)\n",
      "6\n",
      "[5 6]\n",
      "[ 3.  4.]\n",
      "[1 2 3 4 5 6]\n",
      "[1 2 3 4 5 6]\n"
     ]
    }
   ],
   "source": [
    "print(c.shape)      #返回数组的形状（shape）\n",
    "print(c.size)       #返回数组的大小\n",
    "print(c.max(axis=0))    # 这里的 axis 指的是某个轴变\n",
    "print(c.mean(axis=0))\n",
    "print(c.flatten())   # 无论之前是什么形状，一律变成一维向量\n",
    "print(np.ravel(c))     #　同上"
   ]
  },
  {
   "cell_type": "code",
   "execution_count": 14,
   "metadata": {
    "collapsed": false
   },
   "outputs": [
    {
     "name": "stdout",
     "output_type": "stream",
     "text": [
      "[0 1 2 3 4 5 6 7 8 9]\n",
      "[ 0.   1.5  3.   4.5  6. ]\n"
     ]
    }
   ],
   "source": [
    "# 3x3的浮点型2维数组，并且初始化所有元素值为1\n",
    "e = np.ones((3, 3), dtype=np.float)\n",
    "\n",
    " \n",
    "# 创建一个一维数组，元素值是把3重复4次，array([3, 3, 3, 3])\n",
    "f = np.repeat(3, 4)\n",
    "l = np.arange(10)      # 类似range\n",
    "print(l)\n",
    "\n",
    "\n",
    "# 2x2x3的无符号8位整型3维数组，并且初始化所有元素值为0\n",
    "g = np.zeros((2, 2, 3), dtype=np.uint8)\n",
    "g.shape                    # (2, 2, 3)\n",
    "h = g.astype(np.float)  # 用另一种类型表示\n",
    " \n",
    "\n",
    "m = np.linspace(0, 6, 5)# 等差数列，0到6之间5个取值\n",
    "print(m)"
   ]
  },
  {
   "cell_type": "markdown",
   "metadata": {},
   "source": [
    "上面的例子中注意：1.　数据类型要用 `np.float`　2.　强制类型转换是　`.astype()`"
   ]
  },
  {
   "cell_type": "markdown",
   "metadata": {},
   "source": [
    "## 数组的引用"
   ]
  },
  {
   "cell_type": "code",
   "execution_count": 16,
   "metadata": {
    "collapsed": false
   },
   "outputs": [
    {
     "name": "stdout",
     "output_type": "stream",
     "text": [
      "17\n",
      "17\n"
     ]
    }
   ],
   "source": [
    "a = np.arange(24).reshape((2, 3, 4))\n",
    "b = a[1][1][1]  # 17\n",
    "print(b)\n",
    "\n",
    "b1 = a[1,1,1]\n",
    "print(b1)"
   ]
  },
  {
   "cell_type": "markdown",
   "metadata": {},
   "source": [
    "`a[1,1,1]`　和　`a[1][1][1]` 的引用方式完全一样"
   ]
  },
  {
   "cell_type": "code",
   "execution_count": 18,
   "metadata": {
    "collapsed": false
   },
   "outputs": [
    {
     "name": "stdout",
     "output_type": "stream",
     "text": [
      "[[ 8  9 10 11]\n",
      " [20 21 22 23]]\n",
      "\n",
      "\n",
      "[[[ 8  9 10 11]]\n",
      "\n",
      " [[20 21 22 23]]]\n"
     ]
    }
   ],
   "source": [
    "print(a[:,2,:])\n",
    "print('\\n')\n",
    "print(a[:,[2],:])"
   ]
  },
  {
   "cell_type": "markdown",
   "metadata": {},
   "source": [
    "这里想说一个非常重要但是常常被忽略的问题，就是在引用数组的时候，如果引用对象只有一个，那么就会发生降维现象，这样虽然看起来没有没什么问题，但是新得到的张量和原张量的维度信息并不同。为了避免这一情况发生，可以采用`a[:,[2],:]` 的方法。"
   ]
  },
  {
   "cell_type": "code",
   "execution_count": 19,
   "metadata": {
    "collapsed": false
   },
   "outputs": [
    {
     "name": "stdout",
     "output_type": "stream",
     "text": [
      "[[ 1  5  9]\n",
      " [13 17 21]]\n",
      "\n",
      "\n",
      "[[ 1  5  9]\n",
      " [13 17 21]]\n"
     ]
    }
   ],
   "source": [
    "print(a[:,:,1])\n",
    "print('\\n')\n",
    "print(a[...,1])"
   ]
  },
  {
   "cell_type": "markdown",
   "metadata": {},
   "source": [
    "`...` 指未指明的维度"
   ]
  },
  {
   "cell_type": "markdown",
   "metadata": {},
   "source": [
    "数组的拼接可以使用： `vstack`、`hstack`，但是这里更推荐使用　`concatenate`"
   ]
  },
  {
   "cell_type": "code",
   "execution_count": 20,
   "metadata": {
    "collapsed": false
   },
   "outputs": [
    {
     "name": "stdout",
     "output_type": "stream",
     "text": [
      "[[0 1 2]\n",
      " [3 4 5]]\n",
      "[[ 6  7  8]\n",
      " [ 9 10 11]]\n"
     ]
    }
   ],
   "source": [
    "l0 = np.arange(6).reshape((2, 3))\n",
    "l1 = np.arange(6, 12).reshape((2, 3))\n",
    "print(l0)\n",
    "print(l1)"
   ]
  },
  {
   "cell_type": "code",
   "execution_count": 21,
   "metadata": {
    "collapsed": false
   },
   "outputs": [
    {
     "name": "stdout",
     "output_type": "stream",
     "text": [
      "[[ 0  1  2  6  7  8]\n",
      " [ 3  4  5  9 10 11]]\n",
      "\n",
      "\n",
      "[[ 0  1  2  6  7  8]\n",
      " [ 3  4  5  9 10 11]]\n"
     ]
    }
   ],
   "source": [
    "m = np.hstack((l0, l1))\n",
    "r = np.concatenate((l0, l1), axis=-1)\n",
    "print(m)\n",
    "print('\\n')\n",
    "print(r)"
   ]
  },
  {
   "cell_type": "markdown",
   "metadata": {},
   "source": [
    "这里还有一个函数　`stack`　和　`concatenate`，不同的是　`stack`　之后，维度会增加一"
   ]
  },
  {
   "cell_type": "markdown",
   "metadata": {},
   "source": [
    "Numpy　模块的运算具有**广播**性质："
   ]
  },
  {
   "cell_type": "code",
   "execution_count": 24,
   "metadata": {
    "collapsed": false
   },
   "outputs": [
    {
     "name": "stdout",
     "output_type": "stream",
     "text": [
      "[[ 2  4  6]\n",
      " [ 5  7  9]\n",
      " [ 8 10 12]\n",
      " [11 13 15]]\n",
      "\n",
      "\n",
      "[[ 2  4  6]\n",
      " [ 5  7  9]\n",
      " [ 8 10 12]\n",
      " [11 13 15]]\n"
     ]
    }
   ],
   "source": [
    "c = np.array([\n",
    "    [1, 2, 3],\n",
    "    [4, 5, 6],\n",
    "    [7, 8, 9],\n",
    "    [10, 11, 12]\n",
    "])\n",
    "d = np.array([1, 2, 3])\n",
    "print(c+d)\n",
    "print('\\n')\n",
    "print(c+d.T)"
   ]
  },
  {
   "cell_type": "code",
   "execution_count": 40,
   "metadata": {
    "collapsed": false
   },
   "outputs": [
    {
     "name": "stdout",
     "output_type": "stream",
     "text": [
      "\n",
      "\n",
      "[[ 2  3  4]\n",
      " [ 6  7  8]\n",
      " [10 11 12]\n",
      " [14 15 16]]\n"
     ]
    }
   ],
   "source": [
    "e = np.array([[1, 2, 3, 4]])\n",
    "#print(c+e) this will raise an error\n",
    "print('\\n')\n",
    "print(c+e.T)"
   ]
  },
  {
   "cell_type": "markdown",
   "metadata": {},
   "source": [
    "上面的例子再一次说明了：尽量少的使用一维向量，他们的模式不容易把握。"
   ]
  },
  {
   "cell_type": "markdown",
   "metadata": {},
   "source": [
    "## Numpy强大的数学运算能力"
   ]
  },
  {
   "cell_type": "markdown",
   "metadata": {},
   "source": [
    "实际上，numpy 具有强大的运算能力。比如SVD分解这些都可以直接做，这里提及只是再次强调，遇到简单的线性代数运算，不需要再寻找函数，只需要用numpy内部的函数即可。"
   ]
  },
  {
   "cell_type": "markdown",
   "metadata": {},
   "source": [
    "## 随机模块"
   ]
  },
  {
   "cell_type": "code",
   "execution_count": 42,
   "metadata": {
    "collapsed": false
   },
   "outputs": [
    {
     "data": {
      "text/plain": [
       "'\\x8e\\x063\\x8a\\xaa\\xcck\\xc1\\x1c'"
      ]
     },
     "execution_count": 42,
     "metadata": {},
     "output_type": "execute_result"
    }
   ],
   "source": [
    "import numpy.random as random\n",
    " \n",
    "# 设置随机数种子\n",
    "random.seed(42)\n",
    " \n",
    "# 产生一个1x3，[0,1)之间的浮点型随机数\n",
    "# array([[ 0.37454012,  0.95071431,  0.73199394]])\n",
    "# 后面的例子就不在注释中给出具体结果了\n",
    "random.rand(1, 3)\n",
    " \n",
    "# 产生一个[0,1)之间的浮点型随机数\n",
    "random.random()\n",
    " \n",
    "# 下边4个没有区别，都是按照指定大小产生[0,1)之间的浮点型随机数array，不Pythonic…\n",
    "random.random((3, 3))\n",
    "random.sample((3, 3))\n",
    "random.random_sample((3, 3))\n",
    "random.ranf((3, 3))\n",
    " \n",
    "# 产生10个[1,6)之间的浮点型随机数\n",
    "5*random.random(10) + 1\n",
    "random.uniform(1, 6, 10)\n",
    " \n",
    "# 产生10个[1,6]之间的整型随机数\n",
    "random.randint(1, 6, 10)\n",
    " \n",
    "# 产生2x5的标准正态分布样本\n",
    "random.normal(size=(5, 2))\n",
    " \n",
    "# 产生5个，n=5，p=0.5的二项分布样本\n",
    "random.binomial(n=5, p=0.5, size=5)\n",
    " \n",
    "a = np.arange(10)\n",
    " \n",
    "# 从a中有回放的随机采样7个\n",
    "random.choice(a, 7)\n",
    " \n",
    "# 从a中无回放的随机采样7个\n",
    "random.choice(a, 7, replace=False)\n",
    " \n",
    "# 对a进行乱序并返回一个新的array\n",
    "b = random.permutation(a)\n",
    " \n",
    "# 对a进行in-place乱序\n",
    "random.shuffle(a)\n",
    " \n",
    "# 生成一个长度为9的随机bytes序列并作为str返回\n",
    "# '\\x96\\x9d\\xd1?\\xe6\\x18\\xbb\\x9a\\xec'\n",
    "random.bytes(9)"
   ]
  },
  {
   "cell_type": "markdown",
   "metadata": {},
   "source": [
    "1.　随机矩阵\n",
    "2.　制定范围的随机数/组\n",
    "3.　随机整数/组\n",
    "4.　二维标准正态分布\n",
    "5.　二项分布\n",
    "6.　有/无　放回抽样\n",
    "7.　打乱"
   ]
  }
 ],
 "metadata": {
  "kernelspec": {
   "display_name": "Python 2",
   "language": "python",
   "name": "python2"
  },
  "language_info": {
   "codemirror_mode": {
    "name": "ipython",
    "version": 2
   },
   "file_extension": ".py",
   "mimetype": "text/x-python",
   "name": "python",
   "nbconvert_exporter": "python",
   "pygments_lexer": "ipython2",
   "version": "2.7.12"
  }
 },
 "nbformat": 4,
 "nbformat_minor": 1
}
