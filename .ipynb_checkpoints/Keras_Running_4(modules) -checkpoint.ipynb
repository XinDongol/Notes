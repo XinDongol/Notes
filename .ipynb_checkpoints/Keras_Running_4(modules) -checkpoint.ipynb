{
 "cells": [
  {
   "cell_type": "markdown",
   "metadata": {},
   "source": [
    "# Keras Running 4(modules) "
   ]
  },
  {
   "cell_type": "markdown",
   "metadata": {},
   "source": [
    "### Compile"
   ]
  },
  {
   "cell_type": "code",
   "execution_count": null,
   "metadata": {
    "collapsed": true
   },
   "outputs": [],
   "source": [
    "compile(self, optimizer, loss, metrics=[], sample_weight_mode=None)\n",
    "# Configures the learning process."
   ]
  },
  {
   "cell_type": "markdown",
   "metadata": {},
   "source": [
    "Please **pay attention** that it just configures the learning process. "
   ]
  },
  {
   "cell_type": "markdown",
   "metadata": {},
   "source": [
    "### Fit "
   ]
  },
  {
   "cell_type": "code",
   "execution_count": null,
   "metadata": {
    "collapsed": true
   },
   "outputs": [],
   "source": [
    "fit(self, x, y, batch_size=32, nb_epoch=10, verbose=1, \\\n",
    "    callbacks=[], validation_split=0.0, validation_data=None, \\\n",
    "    shuffle=True, class_weight=None, sample_weight=None)"
   ]
  },
  {
   "cell_type": "markdown",
   "metadata": {},
   "source": [
    "Trains the model for a fixed number of epochs. It is the **real** learning process.\n",
    "1. batch_size: Number of samples **per gradient update**. One batch is one iteration.\n",
    "\n",
    "2. callbacks: List of callbacks to apply during training. As you can see, it is only used during training.\n",
    "\n",
    "3. validation_split means that if you don't want to give system the dedicated data for validation, then system will select some data for validation automatically according to 'validation_split'. Then, it is easy to understand that why 'validation_data' will override validation_split.\n",
    "\n",
    "4. shuffle allows you to Disrupt the order of samples."
   ]
  }
 ],
 "metadata": {
  "anaconda-cloud": {},
  "kernelspec": {
   "display_name": "Python [Root]",
   "language": "python",
   "name": "Python [Root]"
  },
  "language_info": {
   "codemirror_mode": {
    "name": "ipython",
    "version": 2
   },
   "file_extension": ".py",
   "mimetype": "text/x-python",
   "name": "python",
   "nbconvert_exporter": "python",
   "pygments_lexer": "ipython2",
   "version": "2.7.12"
  }
 },
 "nbformat": 4,
 "nbformat_minor": 0
}
