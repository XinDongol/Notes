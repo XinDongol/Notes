{
 "cells": [
  {
   "cell_type": "markdown",
   "metadata": {},
   "source": [
    "# Use Keras in TensorFlow"
   ]
  },
  {
   "cell_type": "code",
   "execution_count": 1,
   "metadata": {
    "collapsed": false
   },
   "outputs": [
    {
     "name": "stderr",
     "output_type": "stream",
     "text": [
      "Using TensorFlow backend.\n"
     ]
    }
   ],
   "source": [
    "import tensorflow as tf\n",
    "sess=tf.Session() \n",
    "\n",
    "from keras import backend as K\n",
    "K.set_session(sess)"
   ]
  },
  {
   "cell_type": "markdown",
   "metadata": {},
   "source": [
    "Then, we can use keras to build up our own models."
   ]
  },
  {
   "cell_type": "code",
   "execution_count": 54,
   "metadata": {
    "collapsed": false
   },
   "outputs": [],
   "source": [
    "from keras.layers import Dense\n",
    "\n",
    "img = tf.placeholder(tf.float32, shape=(None, 784))\n",
    "x0 = Dense(128, activation='relu', name='f1')(img)\n",
    "x1 = Dense(128, activation='relu', name='f2')(x0)\n",
    "preds = Dense(10, activation='softmax', name='f3')(x1)\n",
    "\n",
    "labels = tf.placeholder(tf.float32, shape=(None, 10))\n",
    "\n",
    "#you can also do this part in Keras\n",
    "from keras.objectives import categorical_crossentropy\n",
    "loss = tf.reduce_mean(categorical_crossentropy(labels, preds))"
   ]
  },
  {
   "cell_type": "code",
   "execution_count": 55,
   "metadata": {
    "collapsed": false
   },
   "outputs": [
    {
     "name": "stdout",
     "output_type": "stream",
     "text": [
      "Tensor(\"Softmax_5:0\", shape=(?, 10), dtype=float32)\n",
      "Tensor(\"Relu_10:0\", shape=(?, 128), dtype=float32)\n"
     ]
    }
   ],
   "source": [
    "print(preds)\n",
    "print(x0)"
   ]
  },
  {
   "cell_type": "markdown",
   "metadata": {},
   "source": [
    "As you can see, although we use keras to build up models, keras still create a tf graph just like we are merely using Tensorflow.\n",
    "\n",
    "In this way, we can use keras with more flexibility."
   ]
  },
  {
   "cell_type": "code",
   "execution_count": 46,
   "metadata": {
    "collapsed": false
   },
   "outputs": [],
   "source": [
    "from keras.models import Sequential\n",
    "model = Sequential()\n",
    "model.add(Dense(32, input_dim=784 , name='fc1'))"
   ]
  },
  {
   "cell_type": "code",
   "execution_count": 70,
   "metadata": {
    "collapsed": false
   },
   "outputs": [
    {
     "name": "stdout",
     "output_type": "stream",
     "text": [
      "<keras.models.Sequential object at 0x7f5675c6af90>\n",
      "<keras.layers.core.Dense object at 0x7f5675c6afd0>\n",
      "[array([[-0.07031132,  0.06077228, -0.03573687, ..., -0.01878972,\n",
      "         0.08493904, -0.03769649],\n",
      "       [ 0.07317839, -0.08116723,  0.00683551, ..., -0.0089238 ,\n",
      "        -0.01256344,  0.08411299],\n",
      "       [-0.03318359, -0.07095686,  0.03259016, ..., -0.08042316,\n",
      "        -0.07376534,  0.02507918],\n",
      "       ..., \n",
      "       [ 0.06470642,  0.04298466,  0.01302587, ..., -0.06406058,\n",
      "        -0.0789685 ,  0.05106681],\n",
      "       [-0.03746191, -0.04938486,  0.04562957, ..., -0.04526286,\n",
      "         0.00708374, -0.04217885],\n",
      "       [ 0.00222766, -0.02263695,  0.06019362, ...,  0.07967284,\n",
      "        -0.06526798,  0.00422126]], dtype=float32), array([ 0.,  0.,  0.,  0.,  0.,  0.,  0.,  0.,  0.,  0.,  0.,  0.,  0.,\n",
      "        0.,  0.,  0.,  0.,  0.,  0.,  0.,  0.,  0.,  0.,  0.,  0.,  0.,\n",
      "        0.,  0.,  0.,  0.,  0.,  0.], dtype=float32)]\n",
      "____________________________________________________________________________________________________\n",
      "Layer (type)                     Output Shape          Param #     Connected to                     \n",
      "====================================================================================================\n",
      "fc1 (Dense)                      (None, 32)            25120       dense_input_4[0][0]              \n",
      "====================================================================================================\n",
      "Total params: 25120\n",
      "____________________________________________________________________________________________________\n",
      "None\n",
      "<tensorflow.python.client.session.Session object at 0x7f56dc6ae7d0>\n",
      "Tensor(\"add_15:0\", shape=(?, 32), dtype=float32)\n",
      "Tensor(\"add_15:0\", shape=(?, 32), dtype=float32)\n"
     ]
    }
   ],
   "source": [
    "print(model)\n",
    "print(model.get_layer('fc1'))\n",
    "print(model.get_layer('fc1').get_weights())\n",
    "\n",
    "print(model.summary())\n",
    "print(K.get_session())\n",
    "print(model.get_layer('fc1').output)\n",
    "print(K.get_session().graph.get_tensor_by_name('add_15:0'))"
   ]
  },
  {
   "cell_type": "markdown",
   "metadata": {},
   "source": [
    "There are two kinds of objects: TF objects and Keras object. When we use `Dense()` to help us to build up graph, the object is still in TF. However, if we use `model` in keras, the object is in keras. At the same time, we can use more function in keras for keras objects like `fit()`. \n",
    "\n",
    "Yes,  we can retrive tensor object from keras model, just like `model.get_layer('fc1').output`. But, in the lastest version of keras, we can only get input and output tensor in a layer and cannot get weights tensor because they are private attributions. \n",
    "\n",
    "In fact, we can get weights in a layer in form of 'numpy', and set weights for any layer via `set_weights()`"
   ]
  },
  {
   "cell_type": "code",
   "execution_count": 15,
   "metadata": {
    "collapsed": true
   },
   "outputs": [],
   "source": [
    "model.compile(optimizer='rmsprop',\n",
    "loss='categorical_crossentropy',\n",
    "metrics=['accuracy'])"
   ]
  },
  {
   "cell_type": "code",
   "execution_count": 25,
   "metadata": {
    "collapsed": false
   },
   "outputs": [
    {
     "data": {
      "text/plain": [
       "<keras.models.Sequential at 0x7f5675db85d0>"
      ]
     },
     "execution_count": 25,
     "metadata": {},
     "output_type": "execute_result"
    }
   ],
   "source": [
    "model"
   ]
  },
  {
   "cell_type": "markdown",
   "metadata": {},
   "source": [
    "Here, both `model` and its layer are objects in keras."
   ]
  },
  {
   "cell_type": "markdown",
   "metadata": {},
   "source": [
    "Then, we use optimizor in tf."
   ]
  },
  {
   "cell_type": "code",
   "execution_count": 8,
   "metadata": {
    "collapsed": false
   },
   "outputs": [
    {
     "name": "stdout",
     "output_type": "stream",
     "text": [
      "Extracting MNIST_data/train-images-idx3-ubyte.gz\n",
      "Extracting MNIST_data/train-labels-idx1-ubyte.gz\n",
      "Extracting MNIST_data/t10k-images-idx3-ubyte.gz\n",
      "Extracting MNIST_data/t10k-labels-idx1-ubyte.gz\n"
     ]
    }
   ],
   "source": [
    "from tensorflow.examples.tutorials.mnist import input_data\n",
    "mnist_data = input_data.read_data_sets('MNIST_data', one_hot=True)\n",
    "\n",
    "train_step = tf.train.GradientDescentOptimizer(0.5).minimize(loss)\n",
    "with sess.as_default():\n",
    "    for i in range(100):\n",
    "        batch = mnist_data.train.next_batch(50)\n",
    "        train_step.run(feed_dict={img: batch[0],\n",
    "                                  labels: batch[1]})"
   ]
  },
  {
   "cell_type": "markdown",
   "metadata": {},
   "source": [
    "Obviously,  we can also evaluate in TF with help of Keras"
   ]
  },
  {
   "cell_type": "code",
   "execution_count": 71,
   "metadata": {
    "collapsed": false
   },
   "outputs": [
    {
     "name": "stdout",
     "output_type": "stream",
     "text": [
      "0.0912\n"
     ]
    }
   ],
   "source": [
    "from keras.metrics import categorical_accuracy as accuracy\n",
    "\n",
    "acc_value = accuracy(labels, preds)\n",
    "with sess.as_default():\n",
    "    print acc_value.eval(feed_dict={img: mnist_data.test.images,\n",
    "                                    labels: mnist_data.test.labels})"
   ]
  },
  {
   "cell_type": "code",
   "execution_count": 72,
   "metadata": {
    "collapsed": false
   },
   "outputs": [
    {
     "data": {
      "text/plain": [
       "<tf.Tensor 'Mean_8:0' shape=() dtype=float32>"
      ]
     },
     "execution_count": 72,
     "metadata": {},
     "output_type": "execute_result"
    }
   ],
   "source": [
    "acc_value"
   ]
  },
  {
   "cell_type": "markdown",
   "metadata": {},
   "source": [
    "Here is ont thing you should know. If you use Keras to build up TF graph, you may have to assign learning_phase like this "
   ]
  },
  {
   "cell_type": "code",
   "execution_count": null,
   "metadata": {
    "collapsed": true
   },
   "outputs": [],
   "source": [
    "train_step.run(feed_dict={x: batch[0], \\\n",
    "                          labels: batch[1], K.learning_phase(): 1})"
   ]
  },
  {
   "cell_type": "markdown",
   "metadata": {},
   "source": [
    "## Summary\n",
    "Not like TFLearn, keras use different object from TF. So some time we cannot totally use keras in TF. \n",
    "\n",
    "However, when some operation is quite eaiser in keras, we can make use of keras in TF. On the other hand, if we have keras trained model, we can also use keras with TF.\n",
    "\n",
    "But if you want to build up you own model from scratch, you would like to merely use tensorflow for more flexibility."
   ]
  }
 ],
 "metadata": {
  "kernelspec": {
   "display_name": "Python 2",
   "language": "python",
   "name": "python2"
  },
  "language_info": {
   "codemirror_mode": {
    "name": "ipython",
    "version": 2
   },
   "file_extension": ".py",
   "mimetype": "text/x-python",
   "name": "python",
   "nbconvert_exporter": "python",
   "pygments_lexer": "ipython2",
   "version": "2.7.12"
  }
 },
 "nbformat": 4,
 "nbformat_minor": 1
}
