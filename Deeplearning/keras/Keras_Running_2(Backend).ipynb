{
 "cells": [
  {
   "cell_type": "markdown",
   "metadata": {},
   "source": [
    "#Keras Running **2** (Backend)"
   ]
  },
  {
   "cell_type": "markdown",
   "metadata": {},
   "source": [
    "In my opinion, backend make Keras closer to Tensorflow or Thenao. So the usage of backend is also like TF or TH."
   ]
  },
  {
   "cell_type": "code",
   "execution_count": null,
   "metadata": {
    "collapsed": true
   },
   "outputs": [],
   "source": [
    "from keras import backend as K\n",
    "iterate = K.function([input_img], [loss, grads])"
   ]
  },
  {
   "cell_type": "markdown",
   "metadata": {},
   "source": [
    "It tells you that: \n",
    "1. the name of function is 'iterate' whose arguements are [input_img] and the outputs are [loss,grads]\n",
    "2. The difference between K.function and normal function is that in normal function, we use computation to get the output of input, but in K.function, we use the list of input/output to get the output by querying.\n",
    "\n",
    "\n",
    "So how can we use iterate()?"
   ]
  },
  {
   "cell_type": "code",
   "execution_count": null,
   "metadata": {
    "collapsed": true
   },
   "outputs": [],
   "source": [
    "loss_value, grads_value = iterate([input_img_data])"
   ]
  },
  {
   "cell_type": "markdown",
   "metadata": {},
   "source": [
    "`K.mean(x, axis=None, keepdims=False)` can calculate the mean."
   ]
  },
  {
   "cell_type": "markdown",
   "metadata": {},
   "source": [
    "`K.gradients(loss, variables)` can calculate the gradient of **'loss'** w.r.t. **'variables'**. Very Useful!!"
   ]
  },
  {
   "cell_type": "code",
   "execution_count": null,
   "metadata": {
    "collapsed": true
   },
   "outputs": [],
   "source": [
    "K.learning_phase()"
   ]
  },
  {
   "cell_type": "markdown",
   "metadata": {},
   "source": [
    "The learning phase flag is an integer tensor (0 = test, 1 = train) to be passed as input to any Keras function that uses a different behavior at train time and test time.\n",
    "\n",
    "Here we can add `learning_phase()` into our K.function"
   ]
  },
  {
   "cell_type": "code",
   "execution_count": null,
   "metadata": {
    "collapsed": true
   },
   "outputs": [],
   "source": [
    "get_activations = K.function([teacher_model.layers[0].input, K.learning_phase()]\\\n",
    "                             ,teacher_model.get_layer(layername).output)"
   ]
  },
  {
   "cell_type": "markdown",
   "metadata": {},
   "source": [
    "It also helps us learn how K.function works. At the superficial level, it seem like that K.function get output by querying, but K.function actually get the value we nedd by calculating. The really importance that K.function lies is that it emancipated us from a big calculatation or a complex function. We can tell the whole system that what we can provide and what we want to get. In this regard, K.learning_phase is a kind of parameter that we can provide."
   ]
  }
 ],
 "metadata": {
  "kernelspec": {
   "display_name": "Python [Root]",
   "language": "python",
   "name": "Python [Root]"
  },
  "language_info": {
   "codemirror_mode": {
    "name": "ipython",
    "version": 2
   },
   "file_extension": ".py",
   "mimetype": "text/x-python",
   "name": "python",
   "nbconvert_exporter": "python",
   "pygments_lexer": "ipython2",
   "version": "2.7.12"
  }
 },
 "nbformat": 4,
 "nbformat_minor": 0
}
