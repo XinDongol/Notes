{
 "cells": [
  {
   "cell_type": "markdown",
   "metadata": {},
   "source": [
    "# Keras Running 5(callbacks)"
   ]
  },
  {
   "cell_type": "markdown",
   "metadata": {},
   "source": [
    "If we want to write our own callbacks, and we don't know how to do it. One ways is to read the source code of callback functions that Keras provides for us. Then, we can imitate it and write our own function."
   ]
  },
  {
   "cell_type": "markdown",
   "metadata": {},
   "source": [
    "Here is the source code for EarlyStopping"
   ]
  },
  {
   "cell_type": "code",
   "execution_count": null,
   "metadata": {
    "collapsed": true
   },
   "outputs": [],
   "source": [
    "class EarlyStopping(Callback):\n",
    "    '''Stop training when a monitored quantity has stopped improving.\n",
    "    # Arguments\n",
    "        monitor: quantity to be monitored.\n",
    "        patience: number of epochs with no improvement\n",
    "            after which training will be stopped.\n",
    "        verbose: verbosity mode.\n",
    "        mode: one of {auto, min, max}. In 'min' mode,\n",
    "            training will stop when the quantity\n",
    "            monitored has stopped decreasing; in 'max'\n",
    "            mode it will stop when the quantity\n",
    "            monitored has stopped increasing.\n",
    "    '''\n",
    "    def __init__(self, monitor='val_loss', patience=0, verbose=0, \\\n",
    "                 mode='auto'):\n",
    "        #This part is used to initialize variables \n",
    "        super(EarlyStopping, self).__init__()\n",
    "\n",
    "        self.monitor = monitor\n",
    "        self.patience = patience\n",
    "        self.verbose = verbose\n",
    "        self.wait = 0\n",
    "\n",
    "        if mode not in ['auto', 'min', 'max']:\n",
    "            warnings.warn('EarlyStopping mode %s is unknown, '\n",
    "                          'fallback to auto mode.' % (self.mode),\n",
    "                          RuntimeWarning)\n",
    "            mode = 'auto'\n",
    "\n",
    "        if mode == 'min':\n",
    "            self.monitor_op = np.less\n",
    "            #Pay attention to np.less. It means that in the callback \n",
    "            #we can use outside function\n",
    "        elif mode == 'max':\n",
    "            self.monitor_op = np.greater\n",
    "        else:\n",
    "            if 'acc' in self.monitor:\n",
    "                self.monitor_op = np.greater\n",
    "            else:\n",
    "                self.monitor_op = np.less\n",
    "\n",
    "    def on_train_begin(self, logs={}):\n",
    "        self.wait = 0       # Allow instances to be re-used\n",
    "        self.best = np.Inf if self.monitor_op == np.less else -np.Inf\n",
    "\n",
    "    def on_epoch_end(self, epoch, logs={}):\n",
    "        current = logs.get(self.monitor)\n",
    "        \n",
    "    #From the logs get the monitor variables we need\n",
    "        if current is None:\n",
    "            warnings.warn('Early stopping requires %s available!' %\n",
    "                          (self.monitor), RuntimeWarning)\n",
    "\n",
    "        if self.monitor_op(current, self.best):\n",
    "            self.best = current\n",
    "            self.wait = 0\n",
    "        else:\n",
    "            if self.wait >= self.patience:\n",
    "                if self.verbose > 0:\n",
    "                    print('Epoch %05d: early stopping' % (epoch))\n",
    "                self.model.stop_training = True\n",
    "        #Very important!! This line tells us that in a callbacks\n",
    "        #we can directly use self.model without argument!!\n",
    "        #So that means that we can use most of K.function(). It is \\\n",
    "        #very useful!!\n",
    "            self.wait += 1"
   ]
  },
  {
   "cell_type": "markdown",
   "metadata": {},
   "source": [
    "Here is a modified EarlyStopping fucntion by User."
   ]
  },
  {
   "cell_type": "code",
   "execution_count": null,
   "metadata": {
    "collapsed": true
   },
   "outputs": [],
   "source": [
    "class EarlyStoppingByLossVal(Callback):\n",
    "    def __init__(self, monitor='val_loss', value=0.00001, verbose=0):\n",
    "        super(Callback, self).__init__()\n",
    "        self.monitor = monitor\n",
    "        self.value = value\n",
    "        self.verbose = verbose\n",
    "\n",
    "    def on_epoch_end(self, epoch, logs={}):\n",
    "        current = logs.get(self.monitor)\n",
    "        if current is None:\n",
    "            warnings.warn(\"Early stopping requires %s available!\" % self.monitor, RuntimeWarning)\n",
    "\n",
    "        if current < self.value:\n",
    "            if self.verbose > 0:\n",
    "                print(\"Epoch %05d: early stopping THR\" % epoch)\n",
    "            self.model.stop_training = True"
   ]
  },
  {
   "cell_type": "markdown",
   "metadata": {},
   "source": [
    "Here is a source codes of ModelCheckpoint()"
   ]
  },
  {
   "cell_type": "code",
   "execution_count": null,
   "metadata": {
    "collapsed": true
   },
   "outputs": [],
   "source": [
    "class ModelCheckpoint(Callback):\n",
    "    '''Save the model after every epoch.\n",
    "    `filepath` can contain named formatting options,\n",
    "    which will be filled the value of `epoch` and\n",
    "    keys in `logs` (passed in `on_epoch_end`).\n",
    "    For example: if `filepath` is `weights.{epoch:02d}-{val_loss:.2f}.hdf5`,\n",
    "    then multiple files will be save with the epoch number and\n",
    "    the validation loss.\n",
    "    # Arguments\n",
    "        filepath: string, path to save the model file.\n",
    "        monitor: quantity to monitor.\n",
    "        verbose: verbosity mode, 0 or 1.\n",
    "        save_best_only: if `save_best_only=True`,\n",
    "            the latest best model according to\n",
    "            the quantity monitored will not be overwritten.\n",
    "        mode: one of {auto, min, max}.\n",
    "            If `save_best_only=True`, the decision\n",
    "            to overwrite the current save file is made\n",
    "            based on either the maximization or the\n",
    "            minimization of the monitored quantity. For `val_acc`,\n",
    "            this should be `max`, for `val_loss` this should\n",
    "            be `min`, etc. In `auto` mode, the direction is\n",
    "            automatically inferred from the name of the monitored \n",
    "            quantity.\n",
    "        save_weights_only: if True, then only the model's weights \n",
    "        will be\n",
    "            saved (`model.save_weights(filepath)`), else the full \n",
    "            model\n",
    "            is saved (`model.save(filepath)`).\n",
    "    '''\n",
    "    def __init__(self, filepath, monitor='val_loss', verbose=0,\n",
    "                 save_best_only=False, save_weights_only=False,\n",
    "                 mode='auto'):\n",
    "        super(ModelCheckpoint, self).__init__()\n",
    "        self.monitor = monitor\n",
    "        self.verbose = verbose\n",
    "        self.filepath = filepath\n",
    "        self.save_best_only = save_best_only\n",
    "        self.save_weights_only = save_weights_only\n",
    "\n",
    "        if mode not in ['auto', 'min', 'max']:\n",
    "            warnings.warn('ModelCheckpoint mode %s is unknown, '\n",
    "                          'fallback to auto mode.' % (mode),\n",
    "                          RuntimeWarning)\n",
    "            mode = 'auto'\n",
    "\n",
    "        if mode == 'min':\n",
    "            self.monitor_op = np.less\n",
    "            self.best = np.Inf\n",
    "        elif mode == 'max':\n",
    "            self.monitor_op = np.greater\n",
    "            self.best = -np.Inf\n",
    "        else:\n",
    "            if 'acc' in self.monitor:\n",
    "                self.monitor_op = np.greater\n",
    "                self.best = -np.Inf\n",
    "            else:\n",
    "                self.monitor_op = np.less\n",
    "                self.best = np.Inf\n",
    "\n",
    "    def on_epoch_end(self, epoch, logs={}):\n",
    "        filepath = self.filepath.format(epoch=epoch, **logs)\n",
    "        if self.save_best_only:\n",
    "            current = logs.get(self.monitor)\n",
    "            if current is None:\n",
    "                warnings.warn('Can save best model only with %s \\\n",
    "                available, '\n",
    "                              'skipping.' % (self.monitor), \\\n",
    "                              RuntimeWarning)\n",
    "            else:\n",
    "                if self.monitor_op(current, self.best):\n",
    "                    if self.verbose > 0:\n",
    "                        print('Epoch %05d: %s improved from %0.5f \\\n",
    "                        to %0.5f,'\n",
    "                              ' saving model to %s'\n",
    "                              % (epoch, self.monitor, self.best,\n",
    "                                 current, filepath))\n",
    "                    self.best = current\n",
    "                    if self.save_weights_only:\n",
    "                        self.model.save_weights(filepath, \\\n",
    "                                                overwrite=True)\n",
    "                    else:\n",
    "                        self.model.save(filepath, overwrite=True)\n",
    "                else:\n",
    "                    if self.verbose > 0:\n",
    "                        print('Epoch %05d: %s did not improve' %\n",
    "                              (epoch, self.monitor))\n",
    "        else:\n",
    "            if self.verbose > 0:\n",
    "                print('Epoch %05d: saving model to %s' \\\n",
    "                      % (epoch, filepath))\n",
    "            if self.save_weights_only:\n",
    "                self.model.save_weights(filepath, overwrite=True)\n",
    "            else:\n",
    "                self.model.save(filepath, overwrite=True)\n"
   ]
  },
  {
   "cell_type": "markdown",
   "metadata": {},
   "source": [
    "Please pay attentine to \n",
    "> self.model.save(filepath, overwrite=True)\n",
    "\n",
    "As you can see, in the callback function, we can realize our operator and function the same as other normal function!"
   ]
  }
 ],
 "metadata": {
  "kernelspec": {
   "display_name": "Python [Root]",
   "language": "python",
   "name": "Python [Root]"
  },
  "language_info": {
   "codemirror_mode": {
    "name": "ipython",
    "version": 2
   },
   "file_extension": ".py",
   "mimetype": "text/x-python",
   "name": "python",
   "nbconvert_exporter": "python",
   "pygments_lexer": "ipython2",
   "version": "2.7.12"
  }
 },
 "nbformat": 4,
 "nbformat_minor": 0
}
