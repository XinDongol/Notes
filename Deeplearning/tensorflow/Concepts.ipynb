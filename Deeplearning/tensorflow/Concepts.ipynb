{
 "cells": [
  {
   "cell_type": "markdown",
   "metadata": {},
   "source": [
    "## The difference between \"tf.identity\" and \"=\"\n",
    "\n",
    "March 8, 2017 <br/>\n",
    "\n",
    "Reference: \n",
    "\n",
    "[1] https://www.tensorflow.org/api_docs/python/tf/identity\n",
    "\n",
    "[2] http://stackoverflow.com/questions/34877523/in-tensorflow-what-is-tf-identity-used-for\n",
    "\n",
    "\n",
    "tf.identity returns a tensor with the same shape and contents as the input tensor or value. This seems similar with the use of \"=\".  The main different is that \"tf.identity\" will add a new node to the computational graph, while \"=\" will not.\n",
    "\n",
    "The following examples tell the diffenrence between the use of \"tf.identity\" and \"=\". \n",
    "Note that \"tf.control_dependencies\" defines the objects which must be executed or computed before running the operations defined in the contex.\n",
    "\n",
    "Suppose you'd like to run an operator every time a particular variable is evaluated. \n",
    "If you'd like to add one to x every time the variable y is evaluated. It might seem like this will work:"
   ]
  },
  {
   "cell_type": "markdown",
   "metadata": {},
   "source": [
    "## Setup"
   ]
  },
  {
   "cell_type": "code",
   "execution_count": 1,
   "metadata": {
    "collapsed": false
   },
   "outputs": [],
   "source": [
    "import tensorflow as tf"
   ]
  },
  {
   "cell_type": "markdown",
   "metadata": {},
   "source": [
    "## The use of \"=\""
   ]
  },
  {
   "cell_type": "code",
   "execution_count": 30,
   "metadata": {
    "collapsed": false
   },
   "outputs": [
    {
     "name": "stdout",
     "output_type": "stream",
     "text": [
      "X: 0.0\n",
      "Y: 0.0\n",
      "X: 0.0\n",
      "Y: 0.0\n",
      "X: 0.0\n",
      "Y: 0.0\n",
      "X: 0.0\n",
      "Y: 0.0\n",
      "X: 0.0\n",
      "Y: 0.0\n"
     ]
    }
   ],
   "source": [
    "x = tf.Variable(0.0)\n",
    "x_plus_1 = tf.assign_add(x, 1)\n",
    "\n",
    "with tf.control_dependencies([x_plus_1]):\n",
    "    y = x\n",
    "init = tf.global_variables_initializer()\n",
    "\n",
    "with tf.Session() as session:\n",
    "    init.run()\n",
    "    for i in xrange(5):\n",
    "        print(\"X: \" + str(x.eval()))\n",
    "        print(\"Y: \" + str(y.eval()))"
   ]
  },
  {
   "cell_type": "code",
   "execution_count": 31,
   "metadata": {
    "collapsed": false
   },
   "outputs": [
    {
     "name": "stdout",
     "output_type": "stream",
     "text": [
      "X: 0.0\n",
      "Y: 2.0\n",
      "X: 1.0\n",
      "Y: 3.0\n",
      "X: 2.0\n",
      "Y: 4.0\n",
      "X: 3.0\n",
      "Y: 5.0\n",
      "X: 4.0\n",
      "Y: 6.0\n"
     ]
    }
   ],
   "source": [
    "x = tf.Variable(0.0)\n",
    "x_plus_1 = tf.assign_add(x, 1)\n",
    "\n",
    "with tf.control_dependencies([x_plus_1]):\n",
    "    y = x + 1\n",
    "init = tf.global_variables_initializer()\n",
    "\n",
    "with tf.Session() as session:\n",
    "    init.run()\n",
    "    for i in xrange(5):\n",
    "        print(\"X: \" + str(x.eval()))\n",
    "        print(\"Y: \" + str(y.eval()))"
   ]
  },
  {
   "cell_type": "markdown",
   "metadata": {},
   "source": [
    "## The use of \"tf.identity\""
   ]
  },
  {
   "cell_type": "code",
   "execution_count": 28,
   "metadata": {
    "collapsed": false
   },
   "outputs": [
    {
     "name": "stdout",
     "output_type": "stream",
     "text": [
      "X: 0.0\n",
      "Y: 1.0\n",
      "X: 1.0\n",
      "Y: 2.0\n",
      "X: 2.0\n",
      "Y: 3.0\n",
      "X: 3.0\n",
      "Y: 4.0\n",
      "X: 4.0\n",
      "Y: 5.0\n"
     ]
    }
   ],
   "source": [
    "x = tf.Variable(0.0)\n",
    "x_plus_1 = tf.assign_add(x, 1)\n",
    "\n",
    "with tf.control_dependencies([x_plus_1]):\n",
    "    y = tf.identity(x) \n",
    "init = tf.global_variables_initializer()\n",
    "\n",
    "with tf.Session() as session:\n",
    "    init.run()\n",
    "    for i in xrange(5):\n",
    "        print(\"X: \" + str(x.eval()))        \n",
    "        print(\"Y: \" + str(y.eval()))"
   ]
  },
  {
   "cell_type": "code",
   "execution_count": 27,
   "metadata": {
    "collapsed": false
   },
   "outputs": [
    {
     "name": "stdout",
     "output_type": "stream",
     "text": [
      "X: 0.0\n",
      "Y: 2.0\n",
      "X: 1.0\n",
      "Y: 3.0\n",
      "X: 2.0\n",
      "Y: 4.0\n",
      "X: 3.0\n",
      "Y: 5.0\n",
      "X: 4.0\n",
      "Y: 6.0\n"
     ]
    }
   ],
   "source": [
    "x = tf.Variable(0.0)\n",
    "x_plus_1 = tf.assign_add(x, 1)\n",
    "\n",
    "with tf.control_dependencies([x_plus_1]):\n",
    "    y = tf.identity(x) + 1\n",
    "init = tf.global_variables_initializer()\n",
    "\n",
    "with tf.Session() as session:\n",
    "    init.run()\n",
    "    for i in xrange(5):\n",
    "        print(\"X: \" + str(x.eval()))        \n",
    "        print(\"Y: \" + str(y.eval()))"
   ]
  },
  {
   "cell_type": "code",
   "execution_count": null,
   "metadata": {
    "collapsed": true
   },
   "outputs": [],
   "source": []
  }
 ],
 "metadata": {
  "kernelspec": {
   "display_name": "Python 2",
   "language": "python",
   "name": "python2"
  },
  "language_info": {
   "codemirror_mode": {
    "name": "ipython",
    "version": 2
   },
   "file_extension": ".py",
   "mimetype": "text/x-python",
   "name": "python",
   "nbconvert_exporter": "python",
   "pygments_lexer": "ipython2",
   "version": "2.7.12"
  }
 },
 "nbformat": 4,
 "nbformat_minor": 0
}
