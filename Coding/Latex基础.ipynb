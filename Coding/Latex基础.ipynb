{
 "cells": [
  {
   "cell_type": "markdown",
   "metadata": {},
   "source": [
    "# Latex"
   ]
  },
  {
   "cell_type": "markdown",
   "metadata": {},
   "source": [
    "这里谈一谈关于Latex的基础内容和相关概念。"
   ]
  },
  {
   "cell_type": "code",
   "execution_count": null,
   "metadata": {
    "collapsed": true
   },
   "outputs": [],
   "source": [
    "\\documentclass{article}\n",
    "%这里是导言区\n",
    "\\begin{document}\n",
    "Hello, world!\n",
    "\\end{document}"
   ]
  },
  {
   "cell_type": "markdown",
   "metadata": {},
   "source": [
    "反斜杠开头的语句成为控制序列，它后面的花括号是它的必要参数，在后面跟着的方括号是可选参数\n",
    "\n",
    "注意，begin 也是一个控制序列（虽然它比其他任何控制序列都要常见），它一定和　end 成对出现。他们之前的部分称为：**环境**。其他的控制序列可能不要成对出现，单个就可以完成某个任务，比如\n",
    ">\\maketitle\n",
    "\n",
    "\n",
    "所谓宏包，就是一系列控制序列的合集。这些控制序列太常用，以至于人们会觉得每次将他们写在导言区太过繁琐，于是将他们打包放在同一个文件中，成为所谓的宏包（台湾方面称之为「巨集套件」）。**\\usepackage{·}**可以用来调用宏包。\n",
    "\n",
    "\n"
   ]
  },
  {
   "cell_type": "markdown",
   "metadata": {},
   "source": [
    "### 括号的美观化使用\n",
    "\n",
    "各种括号用 (), [], \\{\\}, \\langle\\rangle 等命令表示；注意花括号通常用来输入命令和环境的参数，所以在数学公式中它们前面要加 \\。因为 LaTeX 中 | 和 \\| 的应用过于随意，amsmath 宏包推荐用 \\lvert\\rvert 和 \\lVert\\rVert 取而代之。\n",
    "\n",
    "为了调整这些分隔符的大小，amsmath宏包推荐使用 \\big, \\Big, \\bigg, \\Bigg 等一系列命令放在上述括号前面调整大小。"
   ]
  },
  {
   "cell_type": "markdown",
   "metadata": {},
   "source": [
    "### 调整浮动体位置\n",
    "\n",
    "如果希望禁止浮动，可以使用 float 宏包，结合 H 选项。\n",
    "```\n",
    "\\usepackage{float}\n",
    "% ...\n",
    "\\begin{figure}[H]\n",
    "% ...\n",
    "\\begin{table}[H]\n",
    "```\n",
    "\n",
    "用 \\FloatBarrier 命令. 浮动体的浮动范围不可以跨越该命令. 在每个大章节之间加上这个就可以\n"
   ]
  },
  {
   "cell_type": "markdown",
   "metadata": {},
   "source": [
    "### TeX家族\n",
    "\n",
    "1.　TeX： 是高德纳（Donald Ervin Knuth，1938年1月10日 –）教授愤世嫉俗（大雾；追求完美）做出来的排版引擎，同时也是该引擎使用的标记语言（Markup Lang）的名称。这里所谓的引擎，是指能够实现断行、分页等操作的程序（请注意这并不是定义）；这里的标记语言，是指一种将控制命令和文本结合起来的格式，它的主体是其中的文本而控制命令则实现一些特殊效果（同样请注意这并不是定义）。\n",
    "\n",
    "2.　 LaTeX： 则是 L. Lamport （1941年2月7日 – ） 教授开发的基于 TeX 的排版系统。实际上 LaTeX 利用 TeX 的控制命令，定义了许多新的控制命令并封装成一个可执行文件。这个可执行文件会去解释 LaTeX 新定义的命令成为 TeX 的控制命令，并最终交由 TeX 引擎进行排版。\n",
    "\n",
    "3.　pdfTeX：　TeX 系统生成的文件是 dvi 格式，虽然可以用其他程序将其转换为例如 pdf 等更为常见的格式，但是毕竟不方便。为了解决这个问题，Hàn Thế Thành 博士在他的博士论文中提出了 pdfTeX 这个对 TeX 引擎的扩展。二者最主要的差别就是 pdfTeX 直接输出 pdf 格式文档，而 TeX 引擎则输出 dvi 格式的文档。\n",
    "\n",
    "4.　pdfLaTeX： 这个程序的主要工作依旧是将 LaTeX 格式的文档进行解释，不过此次是将解释之后的结果交付给 pdfTeX 引擎处理。\n",
    "\n",
    "5.　XeTeX - XeLaTeX：　高德纳教授在实现 TeX 的当初并没有考虑到中日韩等字符的处理，而只支持 ASCII 字符。这两个引擎可以实现中文编码。ＵＴＦ－8\n",
    "\n",
    "6.　LuaTeX： 是正在开发完善的一个 TeX 引擎，相对它的前辈们还相当的不完善"
   ]
  },
  {
   "cell_type": "markdown",
   "metadata": {},
   "source": [
    "### TeX套件\n",
    "\n",
    "之前介绍了 TeX, LaTeX, pdfTeX, pdfLaTeX, XeTeX, XeLaTeX, LuaTeX 等，他们都是 TeX 家族的一部分。但是作为一个能够使用的 TeX 系统，仅仅有他们还是不够的。CTeX, MiKTeX, TeX Live 都是被称为「发行」的软件合集。他们包括了上述各种引擎的可执行程序，以及一些文档类、模板、字体文件、辅助程序等等。其中 CTeX 是建立在 MiKTeX 的基础之上的。"
   ]
  }
 ],
 "metadata": {
  "kernelspec": {
   "display_name": "Python 2",
   "language": "python",
   "name": "python2"
  },
  "language_info": {
   "codemirror_mode": {
    "name": "ipython",
    "version": 2
   },
   "file_extension": ".py",
   "mimetype": "text/x-python",
   "name": "python",
   "nbconvert_exporter": "python",
   "pygments_lexer": "ipython2",
   "version": "2.7.12"
  }
 },
 "nbformat": 4,
 "nbformat_minor": 1
}
